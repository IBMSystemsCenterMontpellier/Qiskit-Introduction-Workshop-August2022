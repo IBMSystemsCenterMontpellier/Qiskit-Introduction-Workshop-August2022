{
 "cells": [
  {
   "cell_type": "markdown",
   "metadata": {
    "slideshow": {
     "slide_type": "slide"
    }
   },
   "source": [
    "# Using Qiskit Terra\n",
    "Updated to qiskit version 0.37.1"
   ]
  },
  {
   "cell_type": "markdown",
   "metadata": {
    "slideshow": {
     "slide_type": "fragment"
    }
   },
   "source": [
    "Qiskit Terra contains tools that **define**, **compile** and **execute** quantum circuits on arbitrary **backends**.\n",
    "It allows users to manipulate qubits by using gates and even construct circuits at the level of **pulses**"
   ]
  },
  {
   "cell_type": "markdown",
   "metadata": {},
   "source": [
    "## *Constructing a quantum circuit*"
   ]
  },
  {
   "cell_type": "markdown",
   "metadata": {
    "slideshow": {
     "slide_type": "fragment"
    }
   },
   "source": [
    "In Qiskit the circuits are represented by **QuantumCircuit** class. Below is an example that generates a Belll state:\n",
    "\n",
    "$$|\\psi\\rangle = \\left(|00\\rangle+|11\\rangle\\right)/\\sqrt{2}$$\n"
   ]
  },
  {
   "cell_type": "code",
   "execution_count": 1,
   "metadata": {
    "slideshow": {
     "slide_type": "slide"
    }
   },
   "outputs": [],
   "source": [
    "# Import required fuctions from qiskit\n",
    "import matplotlib.pyplot as plt\n",
    "import numpy as np\n",
    "from qiskit import QuantumCircuit, QuantumRegister, ClassicalRegister\n"
   ]
  },
  {
   "cell_type": "code",
   "execution_count": 51,
   "metadata": {},
   "outputs": [],
   "source": [
    "# Create a Quantum Circuit acting on a quantum register of 2 qubits and classical register of 2 classical bits\n",
    "qr0 = QuantumRegister(1, name='qubit0')\n",
    "qr1 = QuantumRegister(1, name='qubit1')\n",
    "cr = ClassicalRegister(2, name='classical')\n",
    "bell = QuantumCircuit(qr0, qr1, cr)\n",
    "\n",
    "bell.h(qr0[0])\n",
    "bell.cx(qr0[0], qr1[0])\n",
    "bell.measure(qr0[0], cr[0])\n",
    "bell.measure(qr1[0], cr[1])\n",
    "bell.draw(output='mpl')"
   ]
  },
  {
   "cell_type": "code",
   "execution_count": 53,
   "metadata": {},
   "outputs": [],
   "source": [
    "# Create a Quantum Circuit acting on a quantum register of 2 qubits and classical register of 2 classical bits\n",
    "bell = QuantumCircuit(2, 2)  # QuantumCircuit(2, 2) # A QuantumCircuit with 2 qubits and 2 classical bits\n",
    "\n",
    "bell.h(0)                    # bell.h(qr[0])\n",
    "bell.cx(0, 1)                # bell.cx(qr[0], qr[1])\n",
    "bell.measure([0,1], [0,1])   # Measure\n",
    "bell.draw(output='mpl')"
   ]
  },
  {
   "cell_type": "markdown",
   "metadata": {},
   "source": [
    "## *Creating circuits examples*"
   ]
  },
  {
   "cell_type": "code",
   "execution_count": 54,
   "metadata": {},
   "outputs": [],
   "source": [
    "# Construct a 5-qubit GHZ circuit.\n",
    "from qiskit import QuantumCircuit\n",
    "\n",
    "qc = QuantumCircuit(5)\n",
    "qc.h(0)\n",
    "qc.cx(0, range(1,5))\n",
    "qc.measure_all()   #Add measurement to all qubits. Creates a classical register for the qubits to measure  \n",
    "qc.draw(output='mpl')"
   ]
  },
  {
   "cell_type": "code",
   "execution_count": null,
   "metadata": {},
   "outputs": [],
   "source": [
    "# Construct a 4-qubit Berstein-Vazirani circuit using registers.\n",
    "from qiskit import QuantumRegister, ClassicalRegister, QuantumCircuit\n",
    "\n",
    "qc = QuantumCircuit(4,3)\n",
    "qc.x(3)\n",
    "qc.h(3)\n",
    "qc.h(range(1,3))\n",
    "qc.cx(range(3), 3)\n",
    "qc.h(range(3))\n",
    "qc.barrier(range(3))\n",
    "qc.measure(range(3), range(3))\n",
    "\n",
    "qc.draw(output='mpl')\n"
   ]
  },
  {
   "cell_type": "markdown",
   "metadata": {
    "slideshow": {
     "slide_type": "fragment"
    }
   },
   "source": [
    "Additional gates can be found in our qiskit tutorials on Github<br/>\n",
    "[List of quantum operations](https://github.com/Qiskit/qiskit-tutorials/blob/master/tutorials/circuits/3_summary_of_quantum_operations.ipynb)"
   ]
  },
  {
   "cell_type": "markdown",
   "metadata": {},
   "source": [
    "# Qasm Circuit Representation"
   ]
  },
  {
   "cell_type": "code",
   "execution_count": null,
   "metadata": {
    "slideshow": {
     "slide_type": "fragment"
    }
   },
   "outputs": [],
   "source": [
    "# OpenQasm is an intermediate representation for quantum instructions\n",
    "# Get the qasm from the quantum circuit \"qc\" \n",
    "print(qc.qasm())"
   ]
  },
  {
   "cell_type": "code",
   "execution_count": null,
   "metadata": {},
   "outputs": [],
   "source": [
    "# Circuit can be created using qasm() code string\n",
    "\n",
    "qasm_string= '''\n",
    "OPENQASM 2.0;\n",
    "include \"qelib1.inc\";\n",
    "qreg q[4];\n",
    "creg c[3];\n",
    "x q[3];\n",
    "h q[3];\n",
    "h q[1];\n",
    "h q[2];\n",
    "cx q[0],q[3];\n",
    "cx q[1],q[3];\n",
    "cx q[2],q[3];\n",
    "h q[0];\n",
    "h q[1];\n",
    "h q[2];\n",
    "barrier q[0],q[1],q[2];\n",
    "measure q[0] -> c[0];\n",
    "measure q[1] -> c[1];\n",
    "measure q[2] -> c[2];\n",
    "'''"
   ]
  },
  {
   "cell_type": "code",
   "execution_count": null,
   "metadata": {},
   "outputs": [],
   "source": [
    "# create the circuit from qasm string \n",
    "circuit = QuantumCircuit.from_qasm_str(qasm_string)\n",
    "circuit.draw(output='mpl')"
   ]
  },
  {
   "cell_type": "markdown",
   "metadata": {},
   "source": [
    "### *The OpenQasm version 3*\n",
    "This enhanced version of OpenQasm better describes quantum computation in the circuit model. \n",
    "OpenQasm3 specifications can be found in that paper: https://arxiv.org/pdf/2104.14722.pdf"
   ]
  },
  {
   "cell_type": "code",
   "execution_count": null,
   "metadata": {},
   "outputs": [],
   "source": [
    "# Convert the circuit to QASM 3, returning the result as a string. is an intermediate representation for quantum instructions\n",
    "# Get the qasm3 format from the quantum circuit \"qc\" \n",
    "from qiskit.qasm3 import dumps\n",
    "Qasm3_circuit = dumps(qc)\n",
    "print(Qasm3_circuit)"
   ]
  },
  {
   "cell_type": "markdown",
   "metadata": {
    "slideshow": {
     "slide_type": "slide"
    }
   },
   "source": [
    "## *Executing the circuit on a simulator backend*"
   ]
  },
  {
   "cell_type": "code",
   "execution_count": null,
   "metadata": {
    "slideshow": {
     "slide_type": "fragment"
    }
   },
   "outputs": [],
   "source": [
    "from qiskit import Aer\n",
    "\n",
    "# pick a backend, in this case a simulator\n",
    "backend = Aer.get_backend('qasm_simulator')\n",
    "\n",
    "# start a simulation job on the backend\n",
    "job = backend.run(circuit, shots=1000)\n",
    "\n",
    "# collect the job results and display them\n",
    "result = job.result()\n",
    "counts = result.get_counts()\n",
    "print(counts)"
   ]
  },
  {
   "cell_type": "code",
   "execution_count": null,
   "metadata": {
    "slideshow": {
     "slide_type": "fragment"
    }
   },
   "outputs": [],
   "source": [
    "# plot the distribution probabilities\n",
    "from qiskit.tools.visualization import plot_histogram\n",
    "plot_histogram(counts)"
   ]
  },
  {
   "attachments": {
    "lsb-2.png": {
     "image/png": "[encoded data removed]"
    }
   },
   "cell_type": "markdown",
   "metadata": {},
   "source": [
    "### Qiskit bit ordering\n",
    "\n",
    "![lsb-2.png](attachment:lsb-2.png)\n",
    "The least significant bit (qubit 0) is the rightmost bit in the bitstrings."
   ]
  },
  {
   "cell_type": "markdown",
   "metadata": {
    "slideshow": {
     "slide_type": "slide"
    }
   },
   "source": [
    "## *Executing the circuit on a real device*"
   ]
  },
  {
   "cell_type": "code",
   "execution_count": null,
   "metadata": {
    "slideshow": {
     "slide_type": "slide"
    }
   },
   "outputs": [],
   "source": [
    "from qiskit import IBMQ\n",
    "\n",
    "# load your account\n",
    "IBMQ.load_account()\n",
    "\n",
    "# set your provider \n",
    "# provider=IBMQ.get_provider(hub='<your hub>', project='<your project>', group='<your group')\n",
    "\n",
    "provider=IBMQ.get_provider(hub='ibm-q-internal', project='core-team', group='support')\n"
   ]
  },
  {
   "cell_type": "code",
   "execution_count": null,
   "metadata": {},
   "outputs": [],
   "source": [
    "# print only the real backends of your provider and those with a number of qubits greater than 1\n",
    "\n",
    "from qiskit import IBMQ\n",
    "backends=list(filter(lambda device:device.configuration().num_qubits>1, provider.backends(simulator=False)))\n"
   ]
  },
  {
   "cell_type": "code",
   "execution_count": null,
   "metadata": {
    "slideshow": {
     "slide_type": "fragment"
    }
   },
   "outputs": [],
   "source": [
    "from qiskit.compiler import transpile\n",
    "from qiskit.providers.ibmq import least_busy\n",
    "backends = list(filter(lambda device:device.configuration().num_qubits>1, provider.backends(simulator=False)))\n",
    "backend = least_busy(backends)\n",
    "print('The least busy backend is: ', backend.name())\n",
    "\n",
    "# First transpile the circuit to match the hardware configuration of the backend\n",
    "transpiled_circuit = transpile(qc, backend) \n",
    "\n",
    "# start a job on the backend\n",
    "job = backend.run(transpiled_circuit, shots=1000)\n"
   ]
  },
  {
   "cell_type": "code",
   "execution_count": null,
   "metadata": {},
   "outputs": [],
   "source": [
    "# monitor the job\n",
    "from qiskit.tools.monitor import job_monitor\n",
    "\n",
    "job_monitor(job)"
   ]
  },
  {
   "cell_type": "code",
   "execution_count": null,
   "metadata": {},
   "outputs": [],
   "source": [
    "# collect the job results and display them\n",
    "result = job.result()\n",
    "counts = result.get_counts()\n",
    "print(counts)"
   ]
  },
  {
   "cell_type": "code",
   "execution_count": null,
   "metadata": {},
   "outputs": [],
   "source": [
    "plot_histogram(counts)"
   ]
  },
  {
   "attachments": {
    "image.png": {
     "image/png": "[encoded data removed]"
    }
   },
   "cell_type": "markdown",
   "metadata": {},
   "source": [
    "## *Now it's your turn to play!*  - *First Challenge*\n",
    "<div class=\"alert alert-block alert-info\">\n",
    "<b>Note:</b>\n",
    "Here's the first challenge for you: In the following cells, create a GHZ (Greenberger, Horne and Zeilinger) circuit, to produce a three maximally entangled quantum states \n",
    "</div>\n",
    "\n",
    "![image.png](attachment:image.png)"
   ]
  },
  {
   "cell_type": "code",
   "execution_count": null,
   "metadata": {},
   "outputs": [],
   "source": [
    "# execute your circuit using your backend \n",
    "\n",
    "\n",
    "# monitor the job \n",
    "\n",
    "\n",
    "# collect the job results and display them\n"
   ]
  },
  {
   "cell_type": "code",
   "execution_count": null,
   "metadata": {},
   "outputs": [],
   "source": [
    "# Create the QuantumCircuit \"qhz\" \n",
    "\n",
    "                 \n",
    "# Add gates \n",
    "\n",
    "\n",
    "# Add measure (all qubits)\n",
    "\n",
    "\n",
    "# Draw the circuit \n"
   ]
  },
  {
   "cell_type": "markdown",
   "metadata": {},
   "source": [
    "## *End of  First Challenge*"
   ]
  },
  {
   "cell_type": "markdown",
   "metadata": {},
   "source": [
    "# *Circuits operations*"
   ]
  },
  {
   "cell_type": "markdown",
   "metadata": {},
   "source": [
    "## *Addition of circuits*\n",
    "You can combine differents circuits into one. But they have to share the same amount of registers"
   ]
  },
  {
   "cell_type": "code",
   "execution_count": null,
   "metadata": {},
   "outputs": [],
   "source": [
    "# You can combine differents circuits into one. \n",
    "\n",
    "circuit1 = QuantumCircuit(3,3)\n",
    "circuit1.h(0)\n",
    "circuit1.x(1)\n",
    "\n",
    "circuit2 = QuantumCircuit(3,3)\n",
    "circuit2.cx(0,2)\n",
    "\n",
    "circuit3 = QuantumCircuit(3,3)\n",
    "circuit3.measure(range(3),range(3))\n",
    "\n",
    "# full_circuit=circuit1+circuit2+circuit3\n",
    "full_circuit = circuit1.compose(circuit2).compose(circuit3)\n",
    "# draw the circuits \n",
    "import matplotlib.pyplot as plt\n",
    "fig, ax = plt.subplots(nrows=1, ncols=2)\n",
    "ax[0].set_title('Circuit 1')\n",
    "ax[1].set_title('Circuit 2')\n",
    "circuit1.draw(output='mpl',scale=1.2, ax=ax[0])\n",
    "circuit2.draw(output='mpl',scale=1.7, ax=ax[1])\n"
   ]
  },
  {
   "cell_type": "code",
   "execution_count": null,
   "metadata": {},
   "outputs": [],
   "source": [
    "# draw the circuits \n",
    "fig, ax = plt.subplots(nrows=1, ncols=2)\n",
    "ax[0].set_title('Measure Circuit')\n",
    "ax[1].set_title('Full Circuit')\n",
    "circuit3.draw(output='mpl',scale=1.2, ax=ax[0])\n",
    "full_circuit.draw(output='mpl', scale=1.5, ax=ax[1])"
   ]
  },
  {
   "cell_type": "markdown",
   "metadata": {},
   "source": [
    "## *Compose circuit with ``other`` circuit or instruction*"
   ]
  },
  {
   "cell_type": "code",
   "execution_count": null,
   "metadata": {},
   "outputs": [],
   "source": [
    "# It's possible to compose circuits in qiskit\n",
    "big_circ=QuantumCircuit(4)\n",
    "big_circ.h(0)\n",
    "big_circ.x(2)\n",
    "big_circ.cx(0,1)\n",
    "big_circ.cx(2,3)\n",
    "\n",
    "\n",
    "sub_circ = QuantumCircuit(3, name='sub_circ') #The second circuit must have the same or less amount of qubits\n",
    "sub_circ.h(0)\n",
    "sub_circ.ccx(0,1,2)\n",
    "sub_circ.barrier()\n",
    "sub_circ.id(1)\n",
    "sub_circ.u(np.pi, np.pi/2, np.pi/8, 0)\n",
    "\n",
    "fig, ax = plt.subplots(nrows=1, ncols=2)\n",
    "big_circ.draw(output='mpl', ax=ax[0])\n",
    "sub_circ.draw(output='mpl',scale=1.6, ax=ax[1])\n"
   ]
  },
  {
   "cell_type": "markdown",
   "metadata": {},
   "source": [
    "##  *We compose a full circuit from the big_circ and the sub_circ circuits*"
   ]
  },
  {
   "cell_type": "code",
   "execution_count": null,
   "metadata": {},
   "outputs": [],
   "source": [
    "full_circ = big_circ.compose(sub_circ, [1,2,3]) # specify which qubits in the big circuit to add the sub circuit\n",
    "\n",
    "full_circ.draw(output='mpl')"
   ]
  },
  {
   "cell_type": "markdown",
   "metadata": {},
   "source": [
    "##  *We can also create a circuit by appending directly a circuit to an existing one*"
   ]
  },
  {
   "cell_type": "code",
   "execution_count": null,
   "metadata": {},
   "outputs": [],
   "source": [
    "# You can also append directly the sub circuit to the big circuit\n",
    "big_circ.append(sub_circ, [1,2,3])\n",
    "\n",
    "big_circ.draw(output='mpl')"
   ]
  },
  {
   "cell_type": "markdown",
   "metadata": {},
   "source": [
    "##  *You can visualize the overall circuit gates by decomposing it*"
   ]
  },
  {
   "cell_type": "code",
   "execution_count": null,
   "metadata": {},
   "outputs": [],
   "source": [
    "# To visualize the full circuit you have to decompose it\n",
    "# note the decomposition of the Hadamard and Not gates into U2 and U3 gates\n",
    "big_circ.decompose().draw(output='mpl')"
   ]
  },
  {
   "cell_type": "markdown",
   "metadata": {},
   "source": [
    "## *Create a composite gate from a quantum circuit*"
   ]
  },
  {
   "cell_type": "code",
   "execution_count": null,
   "metadata": {},
   "outputs": [],
   "source": [
    "# Consider that circuit\n",
    "from qiskit import QuantumCircuit\n",
    "\n",
    "circ=QuantumCircuit(2)\n",
    "circ.h(0)\n",
    "circ.x(1)\n",
    "\n",
    "# create a gate out of that circuit. \n",
    "myGate = circ.to_gate()\n",
    "\n",
    "# This gate can then be added to a Quantum circuit"
   ]
  },
  {
   "cell_type": "markdown",
   "metadata": {},
   "source": [
    "## *Create a gate from a unitary matrix*"
   ]
  },
  {
   "cell_type": "code",
   "execution_count": null,
   "metadata": {},
   "outputs": [],
   "source": [
    "import scipy\n",
    "import numpy\n",
    "import qiskit\n",
    "from qiskit.extensions import UnitaryGate\n",
    "\n",
    "A = numpy.array([[2, 1, 1, 1], [1, 2, 1, 1], [1, 1, 2, 1], [1, 1, 1, 2]])\n",
    "U = scipy.linalg.expm(1j * A)\n",
    "\n",
    "# create my unitary gate\n",
    "my_unitary_gate = UnitaryGate(U, \"my_unitary_gate\")\n",
    "\n",
    "# let's add that unitary gate to a Quantumcircuit and print it \n",
    "circuit = QuantumCircuit(my_unitary_gate.num_qubits)\n",
    "circuit.append((my_unitary_gate), list(range(my_unitary_gate.num_qubits)))\n",
    "circuit.draw(output='mpl', scale=1)"
   ]
  },
  {
   "cell_type": "code",
   "execution_count": null,
   "metadata": {},
   "outputs": [],
   "source": [
    "# We can decompose that gate into basis gates \n",
    "circuit.decompose().draw(output='mpl')"
   ]
  },
  {
   "cell_type": "code",
   "execution_count": null,
   "metadata": {},
   "outputs": [],
   "source": [
    "# Another way to add a gate from a Unitary matrix to a circuit\n",
    "qubits = [2,3]\n",
    "my_circuit = QuantumCircuit(4)\n",
    "my_circuit.unitary(U,qubits,label=\"my_unitary_gate\") # my_circuit.unitary(obj, qubits, label=None)\n",
    "my_circuit.draw(output='mpl')"
   ]
  },
  {
   "cell_type": "code",
   "execution_count": null,
   "metadata": {},
   "outputs": [],
   "source": [
    "my_circuit.decompose().draw(output='mpl', idle_wires=False)"
   ]
  },
  {
   "cell_type": "markdown",
   "metadata": {},
   "source": [
    "## *Now it's your turn to play!* - *Second challenge*\n",
    "<div class=\"alert alert-block alert-info\">\n",
    "<b>Note:</b>\n",
    "Here's the second challenge for you: Qiskit Terra gives the possibility to create a unitary gate out of a quantum circuit. The result is then a composite gate encapsulating this circuit. \n",
    "Consider the circuit below: \n",
    "\n",
    "\n",
    "  - Convert that circuit into a gate (refer to https://qiskit.org/documentation/stubs/qiskit.circuit.QuantumCircuit.to_gate.html)\n",
    "  - Add that gate to a Quantum Circuit \n",
    "       - Create a new QuantumCircuit (you must create first a QuantumCircuit because you cannot draw a gate without a circuit)\n",
    "       - Append the gate to your QuantumCircuit \n",
    "  - Draw that circuit \n",
    "  - Decompose that circuit one level and draw the decomposition\n",
    "    \n",
    "    \n",
    " </div>\n",
    "\n"
   ]
  },
  {
   "cell_type": "code",
   "execution_count": null,
   "metadata": {},
   "outputs": [],
   "source": [
    "from qiskit import QuantumCircuit\n",
    "\n",
    "simple_circ=QuantumCircuit(2)\n",
    "simple_circ.h(0)\n",
    "simple_circ.x(1)\n",
    "circuit.draw(output='mpl')"
   ]
  },
  {
   "cell_type": "code",
   "execution_count": null,
   "metadata": {},
   "outputs": [],
   "source": [
    "# Convert that circuit to a gate \n",
    "\n"
   ]
  },
  {
   "cell_type": "code",
   "execution_count": null,
   "metadata": {},
   "outputs": [],
   "source": [
    "# create a new QuantumCircuit and append the gate to that circuit\n"
   ]
  },
  {
   "cell_type": "code",
   "execution_count": null,
   "metadata": {},
   "outputs": [],
   "source": [
    "# draw the circuit \n"
   ]
  },
  {
   "cell_type": "code",
   "execution_count": null,
   "metadata": {},
   "outputs": [],
   "source": [
    "# decompose that circuit one level and draw the decomposition\n"
   ]
  },
  {
   "cell_type": "markdown",
   "metadata": {},
   "source": [
    "## *Now it's your turn to play!* - *Third challenge*"
   ]
  },
  {
   "cell_type": "markdown",
   "metadata": {},
   "source": [
    "<div class=\"alert alert-block alert-info\">\n",
    "<b>Note:</b>\n",
    "Here's the third challenge for you: Qiskit Terra gives the possibility to create a unitary \"controlled gate\" from a circuit. \n",
    "\n",
    "  - Convert the circuit (simple_circ) into a controlled gate (refer to https://qiskit.org/documentation/stubs/qiskit.circuit.QuantumCircuit.to_gate.html)\n",
    "  - Add that controlled gate to a Quantum Circuit \n",
    "       - Create a new QuantumCircuit (you must create first a QuantumCircuit because you cannot draw a gate without a circuit)\n",
    "       - Append the controlled gate to your QuantumCircuit \n",
    "  - Draw that circuit \n",
    "  - Decompose the circuit one level and draw the decomposition "
   ]
  },
  {
   "cell_type": "code",
   "execution_count": null,
   "metadata": {},
   "outputs": [],
   "source": [
    "# create a controlled gate from the circuit (simple_circ)\n",
    "\n"
   ]
  },
  {
   "cell_type": "code",
   "execution_count": null,
   "metadata": {},
   "outputs": [],
   "source": [
    "# create a new QuantumCircuit and append the controlled gate to it \n",
    "\n"
   ]
  },
  {
   "cell_type": "code",
   "execution_count": null,
   "metadata": {},
   "outputs": [],
   "source": [
    "# draw the QuantumCircuit \n",
    "\n"
   ]
  },
  {
   "cell_type": "code",
   "execution_count": null,
   "metadata": {},
   "outputs": [],
   "source": [
    "# decompose one level that circuit and draw the decomposition \n"
   ]
  },
  {
   "cell_type": "markdown",
   "metadata": {},
   "source": [
    "# Challenges Solutions\n",
    "<div class=\"alert alert-success\">\n",
    "<b>First Challenge solution</b>\n"
   ]
  },
  {
   "cell_type": "code",
   "execution_count": 44,
   "metadata": {},
   "outputs": [
    {
     "data": {
      "image/png": "[encoded data removed]",
      "text/plain": [
       "<Figure size 538.279x325.08 with 1 Axes>"
      ]
     },
     "execution_count": 44,
     "metadata": {},
     "output_type": "execute_result"
    }
   ],
   "source": [
    "# Create the QuantumCircuit \"qhz\" \n",
    "qc = QuantumCircuit(3,3)\n",
    "\n",
    "# Add gates \n",
    "qc.h(0)\n",
    "qc.cx(0,1)\n",
    "qc.cx(1,2)\n",
    "\n",
    "# Add measure (all qubits)\n",
    "qc.measure_all()\n",
    "\n",
    "# Draw the circuit \n",
    "qc.draw(output='mpl')\n"
   ]
  },
  {
   "cell_type": "code",
   "execution_count": 47,
   "metadata": {},
   "outputs": [
    {
     "name": "stderr",
     "output_type": "stream",
     "text": [
      "ibmqfactory.load_account:WARNING:2022-08-01 15:58:28,799: Credentials are already in use. The existing account in the session will be replaced.\n"
     ]
    }
   ],
   "source": [
    "# execute your circuit using your backend \"ibmq_lima\" for example\n",
    "from qiskit.compiler import transpile\n",
    "from qiskit import IBMQ\n",
    "IBMQ.load_account() # Load your account from disk\n",
    "\n",
    "provider = IBMQ.get_provider(hub='ibm-q-internal', project='core-team', group='support')\n",
    "backend = provider.get_backend('ibmq_lima')\n",
    "trans = transpile(qc, backend)\n",
    "\n",
    "job = backend.run(trans, shots=1000)\n"
   ]
  },
  {
   "cell_type": "code",
   "execution_count": 48,
   "metadata": {},
   "outputs": [
    {
     "name": "stdout",
     "output_type": "stream",
     "text": [
      "Job Status: job has successfully run\n"
     ]
    }
   ],
   "source": [
    "# monitor the job\n",
    "from qiskit.tools.monitor import job_monitor\n",
    "job_monitor(job)"
   ]
  },
  {
   "cell_type": "code",
   "execution_count": 49,
   "metadata": {},
   "outputs": [
    {
     "data": {
      "image/png": "[encoded data removed]",
      "text/plain": [
       "<Figure size 504x360 with 1 Axes>"
      ]
     },
     "execution_count": 49,
     "metadata": {},
     "output_type": "execute_result"
    }
   ],
   "source": [
    "# collect the job results and display them\n",
    "result = job.result()\n",
    "\n",
    "counts = result.get_counts()\n",
    "\n",
    "plot_histogram(counts)"
   ]
  },
  {
   "cell_type": "markdown",
   "metadata": {},
   "source": [
    "<div class=\"alert alert-success\">\n",
    "<b>Second Challenge solution</b>\n"
   ]
  },
  {
   "cell_type": "code",
   "execution_count": null,
   "metadata": {},
   "outputs": [],
   "source": [
    "# Convert the circuit to gate\n",
    "\n",
    "my_gate=simple_circ.to_gate()\n",
    "\n",
    "print(type(my_gate))"
   ]
  },
  {
   "cell_type": "code",
   "execution_count": null,
   "metadata": {},
   "outputs": [],
   "source": [
    "# To draw the gate you must create a QuantumCircuit. \n",
    "my_circuit = QuantumCircuit(2)\n",
    "\n",
    "# add the gate to your circuit\n",
    "my_circuit.append(my_gate, [0,1])\n",
    "\n",
    "# draw your circuit\n",
    "my_circuit.draw()"
   ]
  },
  {
   "cell_type": "code",
   "execution_count": null,
   "metadata": {},
   "outputs": [],
   "source": [
    "my_circuit.decompose().draw()"
   ]
  },
  {
   "cell_type": "markdown",
   "metadata": {},
   "source": [
    "<div class=\"alert alert-success\">\n",
    "<b>Third Challenge solution</b>\n"
   ]
  },
  {
   "cell_type": "code",
   "execution_count": null,
   "metadata": {},
   "outputs": [],
   "source": [
    "# create a controlled gate from the original circuit \n",
    "my_controlled_gate=simple_circ.to_gate().control()\n",
    "\n",
    "# create a new circuit and append it the controlled gate\n",
    "my_controlled_circ = QuantumCircuit(3,3)\n",
    "\n",
    "my_controlled_circ.append(my_controlled_gate,[0,1,2]) # first qubit is the control\n",
    "\n",
    "my_controlled_circ.draw()\n",
    "\n"
   ]
  },
  {
   "cell_type": "code",
   "execution_count": null,
   "metadata": {},
   "outputs": [],
   "source": [
    "# decompose to standard gates\n",
    "my_controlled_circ.decompose().draw()"
   ]
  }
 ],
 "metadata": {
  "kernelspec": {
   "display_name": "Python 3 (ipykernel)",
   "language": "python",
   "name": "python3"
  },
  "language_info": {
   "codemirror_mode": {
    "name": "ipython",
    "version": 3
   },
   "file_extension": ".py",
   "mimetype": "text/x-python",
   "name": "python",
   "nbconvert_exporter": "python",
   "pygments_lexer": "ipython3",
   "version": "3.10.4"
  }
 },
 "nbformat": 4,
 "nbformat_minor": 2
}
